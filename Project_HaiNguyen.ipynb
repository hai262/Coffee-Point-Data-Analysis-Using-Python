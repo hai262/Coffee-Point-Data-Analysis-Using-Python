{
 "cells": [
  {
   "cell_type": "markdown",
   "metadata": {},
   "source": [
    "# <font color='red'> Project: Coffee Point Data Analysis Using Python </font>\n",
    "## <font color='green'> Topic: Developing ABC and FRM analysis for Coffee Point and data integration in Python </font>"
   ]
  },
  {
   "cell_type": "markdown",
   "metadata": {
    "id": "S8RAr95C3Rnc"
   },
   "source": [
    "### <font color='blue'> 1. Data Preparation"
   ]
  },
  {
   "cell_type": "code",
   "execution_count": 63,
   "metadata": {
    "executionInfo": {
     "elapsed": 8,
     "status": "ok",
     "timestamp": 1735126863414,
     "user": {
      "displayName": "Hai Nguyen",
      "userId": "10948943365761914334"
     },
     "user_tz": -60
    },
    "id": "jDbZdoN3sW1a"
   },
   "outputs": [],
   "source": [
    "import numpy as np\n",
    "import pandas as pd\n",
    "import matplotlib.pyplot as plt\n",
    "import seaborn as sns\n",
    "from datetime import datetime, timedelta\n",
    "import random\n",
    "import os\n",
    "import warnings\n",
    "warnings.filterwarnings('ignore')"
   ]
  },
  {
   "cell_type": "code",
   "execution_count": 64,
   "metadata": {
    "colab": {
     "base_uri": "https://localhost:8080/"
    },
    "executionInfo": {
     "elapsed": 5,
     "status": "ok",
     "timestamp": 1735126865371,
     "user": {
      "displayName": "Hai Nguyen",
      "userId": "10948943365761914334"
     },
     "user_tz": -60
    },
    "id": "GOBNH_W7w91a",
    "outputId": "e5c85f4b-ac17-497e-ee9b-eb57387b9b6e"
   },
   "outputs": [
    {
     "name": "stdout",
     "output_type": "stream",
     "text": [
      "Sample Data Created.\n"
     ]
    }
   ],
   "source": [
    "# Simulate data\n",
    "products = [\"Coffee\", \"Espresso\", \"Latte\", \"Cappuccino\", \"Mocha\", \"Tea\", \"Sandwich\", \"Cake\"]\n",
    "customers = [f\"CUST-{i:03d}\" for i in range(1, 1001)]\n",
    "data = []\n",
    "# Define start date and months\n",
    "start_date = datetime(2024, 1, 1)\n",
    "for month in range(1, 13):  # Loop through each month\n",
    "    for _ in range(random.randint(300,800)):\n",
    "        order_id = f\"ORD-{len(data)+1:03d}\"\n",
    "        item = random.choice(products)\n",
    "        # Generate random day within the current month\n",
    "        first_day = datetime(2024, month, 1)\n",
    "        last_day = (first_day + timedelta(days=32)).replace(day=1) - timedelta(days=1)\n",
    "        random_date = first_day + timedelta(days=random.randint(0, (last_day - first_day).days))\n",
    "        price = round(random.uniform(2, 20), 2)  # Random price between $2 and $20\n",
    "        customer = random.choice(customers)\n",
    "        data.append([order_id, item, random_date.strftime('%Y-%m-%d'), price, customer])\n",
    "# Create a DataFrame and save to CSV\n",
    "df = pd.DataFrame(data, columns=[\"key\", \"item\", \"date\", \"price\", \"customer\"])\n",
    "df.to_csv(\"C:/Users/Zenbook14/Python Programing/coffee_point_data.csv\", index=False)\n",
    "print(\"Sample Data Created.\")"
   ]
  },
  {
   "cell_type": "markdown",
   "metadata": {
    "id": "T89O_Lq63Vwo"
   },
   "source": [
    "### <font color='blue'> 2. ABC Analysis"
   ]
  },
  {
   "cell_type": "code",
   "execution_count": 66,
   "metadata": {
    "colab": {
     "base_uri": "https://localhost:8080/"
    },
    "executionInfo": {
     "elapsed": 5,
     "status": "ok",
     "timestamp": 1735126865371,
     "user": {
      "displayName": "Hai Nguyen",
      "userId": "10948943365761914334"
     },
     "user_tz": -60
    },
    "id": "O6PScG_L0s_l",
    "outputId": "dc389268-dc64-4f47-c547-9c2fa3a74e3d"
   },
   "outputs": [
    {
     "name": "stdout",
     "output_type": "stream",
     "text": [
      "         item    price ABC\n",
      "0         Tea  9949.01   A\n",
      "1       Mocha  9614.16   A\n",
      "2        Cake  9368.57   A\n",
      "3       Latte  9223.43   A\n",
      "4    Espresso  9113.76   A\n",
      "5    Sandwich  9046.43   A\n",
      "6  Cappuccino  8721.98   B\n",
      "7      Coffee  8564.76   C\n"
     ]
    }
   ],
   "source": [
    "# Calculate Total Sales per Product\n",
    "def abc_analysis(df):\n",
    "  sales_per_product = df.groupby(\"item\")[\"price\"].sum().sort_values(ascending=False)\n",
    "  # Calculate cumulative percentage\n",
    "  total_sales = sales_per_product.sum()\n",
    "  sales_cumulative = (sales_per_product/total_sales).cumsum()\n",
    "  # Categorize into A, B, C\n",
    "  abc_categories = pd.cut(sales_cumulative,bins=[0, 0.8, 0.95, 1], labels = ['A','B','C'])\n",
    "  sales_per_product = sales_per_product.reset_index()\n",
    "  sales_per_product[\"ABC\"] = abc_categories.values\n",
    "  return sales_per_product\n",
    "abc_results = abc_analysis(df)\n",
    "print(abc_results)"
   ]
  },
  {
   "cell_type": "markdown",
   "metadata": {
    "id": "uFx8ztFt7k5j"
   },
   "source": [
    "### <font color='blue'> 3. FRM Analysis"
   ]
  },
  {
   "cell_type": "code",
   "execution_count": 68,
   "metadata": {
    "colab": {
     "base_uri": "https://localhost:8080/"
    },
    "executionInfo": {
     "elapsed": 4,
     "status": "ok",
     "timestamp": 1735126865371,
     "user": {
      "displayName": "Hai Nguyen",
      "userId": "10948943365761914334"
     },
     "user_tz": -60
    },
    "id": "CLuS1Xwf7mg0",
    "outputId": "f7667978-6a1b-496a-aed7-4c358940eff7"
   },
   "outputs": [
    {
     "name": "stdout",
     "output_type": "stream",
     "text": [
      "          Frequency  Recency  Monetary     Segment\n",
      "customer                                          \n",
      "CUST-001          2      260     12.04     At Risk\n",
      "CUST-002         12       38    132.66  High Value\n",
      "CUST-003         10       41     83.17  High Value\n",
      "CUST-004          8       71     87.19  High Value\n",
      "CUST-005          6       12     74.46   Low Value\n",
      "...             ...      ...       ...         ...\n",
      "CUST-995          5      115     41.09     At Risk\n",
      "CUST-996          4      104     53.72     At Risk\n",
      "CUST-997          4       27     38.46   Low Value\n",
      "CUST-998          7       19     84.97   Low Value\n",
      "CUST-999          5       16     50.08   Low Value\n",
      "\n",
      "[998 rows x 4 columns]\n"
     ]
    }
   ],
   "source": [
    "# Calculate Frequency, Recency, Monetary\n",
    "# FRM Analysis\n",
    "def frm_analysis(df):\n",
    "    df[\"date\"] = pd.to_datetime(df[\"date\"])\n",
    "    current_date = df[\"date\"].max() + pd.Timedelta(days=1)\n",
    "    frm = df.groupby(\"customer\").agg(\n",
    "        Frequency=(\"key\", \"count\"),\n",
    "        Recency=(\"date\", lambda x: (current_date - x.max()).days),\n",
    "        Monetary=(\"price\", \"sum\"),)\n",
    "    # Add thresholds for segmentation\n",
    "    recency_threshold = frm[\"Recency\"].astype(int).median()\n",
    "    frequency_threshold = frm[\"Frequency\"].median()\n",
    "    monetary_threshold = frm[\"Monetary\"].median()\n",
    "    # Create segments\n",
    "    frm['Segment'] = (\n",
    "        frm.apply(lambda row: 'High Value' if row['Frequency'] > frequency_threshold and row['Monetary'] > monetary_threshold\n",
    "                          else ('Loyal' if row['Frequency'] > frequency_threshold \n",
    "                                else ('At Risk' if row['Recency'] > recency_threshold else 'Low Value')), axis=1))\n",
    "    return frm\n",
    "frm_results = frm_analysis(df)\n",
    "print(frm_results)"
   ]
  },
  {
   "cell_type": "markdown",
   "metadata": {
    "id": "dQBDw_xh_yTC"
   },
   "source": [
    "### <font color='blue'> 4. Visualization"
   ]
  },
  {
   "cell_type": "markdown",
   "metadata": {
    "id": "fuVZcBP0_2Va"
   },
   "source": [
    "#### <font color='orange'> 4.1. ABC Analysis Visualization"
   ]
  },
  {
   "cell_type": "code",
   "execution_count": 71,
   "metadata": {
    "colab": {
     "base_uri": "https://localhost:8080/",
     "height": 410
    },
    "executionInfo": {
     "elapsed": 375,
     "status": "ok",
     "timestamp": 1735126865743,
     "user": {
      "displayName": "Hai Nguyen",
      "userId": "10948943365761914334"
     },
     "user_tz": -60
    },
    "id": "OxcqwoM7_zm2",
    "outputId": "3520c4ac-99d8-47e0-ae80-9a4323f2d992"
   },
   "outputs": [
    {
     "data": {
      "image/png": "[encoded data removed]",
      "text/plain": [
       "<Figure size 500x400 with 1 Axes>"
      ]
     },
     "metadata": {},
     "output_type": "display_data"
    }
   ],
   "source": [
    "def visualize_abc(abc_results):\n",
    "  plt.figure(figsize=(5,4))\n",
    "  abc_results.groupby(\"ABC\")[\"price\"].sum().plot(kind='bar',color=[\"green\",\"orange\",\"red\"])\n",
    "  plt.title(\"ABC Analysis\",color='blue')\n",
    "  plt.xlabel(\"Category\")\n",
    "  plt.xticks(rotation = 0)\n",
    "  plt.ylabel(\"Total Sales\")\n",
    "  plt.yticks(size=8)\n",
    "  plt.grid(alpha =0.1)\n",
    "  plt.show()\n",
    "visualize_abc(abc_results)"
   ]
  },
  {
   "cell_type": "markdown",
   "metadata": {
    "id": "Jy5qG-tACt7M"
   },
   "source": [
    "#### <font color='orange'> 4.2. FRM Distribution"
   ]
  },
  {
   "cell_type": "code",
   "execution_count": 73,
   "metadata": {
    "colab": {
     "base_uri": "https://localhost:8080/",
     "height": 410
    },
    "executionInfo": {
     "elapsed": 343,
     "status": "ok",
     "timestamp": 1735126866080,
     "user": {
      "displayName": "Hai Nguyen",
      "userId": "10948943365761914334"
     },
     "user_tz": -60
    },
    "id": "-wFjZFAdBgPu",
    "outputId": "690da067-7d92-43f6-ad21-3c66096e9cba"
   },
   "outputs": [
    {
     "data": {
      "image/png": "[encoded data removed]",
      "text/plain": [
       "<Figure size 500x400 with 1 Axes>"
      ]
     },
     "metadata": {},
     "output_type": "display_data"
    }
   ],
   "source": [
    "def visualize_frm(frm_results):\n",
    "    plt.figure(figsize=(5, 4))\n",
    "    frm_results[\"Segment\"].value_counts().plot(kind=\"bar\", color=[\"green\",\"orange\",\"red\"])\n",
    "    plt.title(\"Customer Segmentation (FRM)\",color='blue')\n",
    "    plt.xlabel(\"Segment\")\n",
    "    plt.xticks(rotation = 0)\n",
    "    plt.ylabel(\"Number of Customers\")\n",
    "    plt.grid(alpha=0.1)\n",
    "    plt.show()\n",
    "visualize_frm(frm_results)"
   ]
  },
  {
   "cell_type": "markdown",
   "metadata": {
    "id": "hv1ac27BMhxc"
   },
   "source": [
    "### <font color='blue'> 5. Automation and Application Development"
   ]
  },
  {
   "cell_type": "markdown",
   "metadata": {
    "id": "av41p4u-iG3e"
   },
   "source": [
    "#### <font color='orange'> 5.1. Automation with Python Scripts"
   ]
  },
  {
   "cell_type": "markdown",
   "metadata": {
    "id": "HrloHaj3h_oB"
   },
   "source": [
    "**Add Scheduling Support**"
   ]
  },
  {
   "cell_type": "code",
   "execution_count": 77,
   "metadata": {
    "executionInfo": {
     "elapsed": 8,
     "status": "ok",
     "timestamp": 1735126866080,
     "user": {
      "displayName": "Hai Nguyen",
      "userId": "10948943365761914334"
     },
     "user_tz": -60
    },
    "id": "l1n0J5iQMegg"
   },
   "outputs": [],
   "source": [
    "# output_dir = \"C:/Users/Zenbook14/Python Programing/\"\n",
    "# data_path = \"C:/Users/Zenbook14/Python Programing/coffee_point_data.csv\"\n",
    "# def process_data(data_path,output_dir):\n",
    "#   if not os.path.exists(output_dir):\n",
    "#     os.makedirs(output_dir)\n",
    "#   # Load data\n",
    "#   df = pd.read_csv(data_path)\n",
    "#   # Perform ABC Analysis\n",
    "#   abc_results = abc_analysis(df)\n",
    "#   abc_results.to_csv(os.path.join(output_dir,\"abc_results.csv\"),index=False)\n",
    "#   # Perform FRM Analysis\n",
    "#   frm_results = frm_analysis(df)\n",
    "#   frm_results.to_csv(os.path.join(output_dir, \"frm_results.csv\"), index=False)\n",
    "#   # Save visualizations\n",
    "#   visualize_abc(abc_results,os.path.join(output_dir,\"abc_chart.png\"))\n",
    "#   visualize_frm(frm_results,os.path.join(output_dir,\"frm_chart.png\"))\n",
    "#   print(f\"Data processed and results saved to {output_dir}\")"
   ]
  },
  {
   "cell_type": "markdown",
   "metadata": {
    "id": "JvzhKB40Mdga"
   },
   "source": [
    "**Automate Data Processing**"
   ]
  },
  {
   "cell_type": "code",
   "execution_count": 79,
   "metadata": {},
   "outputs": [
    {
     "name": "stdout",
     "output_type": "stream",
     "text": [
      "Overwriting analysis_tools.py\n"
     ]
    }
   ],
   "source": [
    "%%writefile analysis_tools.py\n",
    "import pandas as pd\n",
    "import matplotlib.pyplot as plt\n",
    "import os\n",
    "from sklearn.preprocessing import StandardScaler\n",
    "from sklearn.cluster import KMeans\n",
    "import plotly.express as px\n",
    "\n",
    "# ABC Analysis\n",
    "def abc_analysis(df):\n",
    "    sales_per_product = df.groupby(\"item\")[\"price\"].sum().sort_values(ascending=False)\n",
    "    total_sales = sales_per_product.sum()\n",
    "    sales_cumulative = (sales_per_product / total_sales).cumsum()\n",
    "    abc_categories = pd.cut(sales_cumulative, bins=[0, 0.8, 0.95, 1], labels=[\"A\", \"B\", \"C\"])\n",
    "    sales_per_product = sales_per_product.reset_index()\n",
    "    sales_per_product[\"ABC\"] = abc_categories.values\n",
    "    return sales_per_product\n",
    "\n",
    "# FRM Analysis\n",
    "def frm_analysis(df):\n",
    "    df[\"date\"] = pd.to_datetime(df[\"date\"])\n",
    "    current_date = df[\"date\"].max() + pd.Timedelta(days=1)\n",
    "    frm = df.groupby(\"customer\").agg(\n",
    "        Frequency=(\"key\", \"count\"),\n",
    "        Recency=(\"date\", lambda x: (current_date - x.max()).days),\n",
    "        Monetary=(\"price\", \"sum\"),)\n",
    "    # Add thresholds for segmentation\n",
    "    recency_threshold = frm[\"Recency\"].astype(int).median()\n",
    "    frequency_threshold = frm[\"Frequency\"].median()\n",
    "    monetary_threshold = frm[\"Monetary\"].median()\n",
    "    # Create segments\n",
    "    frm['Segment'] = (frm.apply(lambda row: 'High Value' if row['Frequency'] > frequency_threshold and row['Monetary'] > monetary_threshold\n",
    "                          else ('Loyal' if row['Frequency'] > frequency_threshold \n",
    "                                else ('At Risk' if row['Recency'] > recency_threshold else 'Low Value')), axis=1))\n",
    "    return frm\n",
    "\n",
    "# Visualize ABC Analysis\n",
    "def visualize_abc(abc_results, output_path):\n",
    "    plt.figure(figsize=(5, 4))\n",
    "    abc_results.groupby(\"ABC\")[\"price\"].sum().plot(kind=\"bar\", color=[\"green\", \"orange\", \"red\"])\n",
    "    plt.title(\"ABC Analysis\", color=\"blue\")\n",
    "    plt.xlabel(\"Category\")\n",
    "    plt.xticks(rotation=0)\n",
    "    plt.ylabel(\"Total Sales\")\n",
    "    plt.yticks(size=6)\n",
    "    plt.grid(alpha=0.1)\n",
    "    plt.savefig(output_path)\n",
    "    plt.close()\n",
    "\n",
    "# Visualize FRM Analysis\n",
    "def visualize_frm(frm_results, output_path):\n",
    "    plt.figure(figsize=(5, 4))\n",
    "    frm_results[\"Segment\"].value_counts().plot(kind=\"bar\", color=['#3498db', '#2ecc71', '#f1c40f', '#e74c3c'])\n",
    "    plt.title(\"Customer Segmentation (FRM)\", color=\"blue\")\n",
    "    plt.xlabel(\"Segment\")\n",
    "    plt.xticks(rotation=0)\n",
    "    plt.ylabel(\"Number of Customers\")\n",
    "    plt.grid(alpha=0.1)\n",
    "    plt.savefig(output_path)\n",
    "    plt.close()\n",
    "    \n",
    "# Interactive 3D FRM Plot =\"frm_3d_plot_with_segments.html\"\n",
    "# Function for 3D FRM Plot with Segments\n",
    "def frm_3d_scatter_with_segments(frm_results):\n",
    "    if \"Segment\" not in frm_results.columns:\n",
    "        st.error(\"The FRM data must contain a 'Segment' column for visualization.\")\n",
    "        return None\n",
    "    # Create the 3D scatter plot\n",
    "    fig = px.scatter_3d(frm_results.reset_index(),x=\"Recency\", y=\"Frequency\", z=\"Monetary\", color=\"Segment\", symbol=\"Segment\", hover_name=\"customer\",\n",
    "         color_discrete_map={\"High Value\": \"#2ecc71\", \"Loyal\": \"#3498db\", \"At Risk\": \"#e74c3c\", \"Low Value\": \"#f1c40f\"})\n",
    "    fig.update_traces(marker=dict(size=3, opacity=0.5))\n",
    "    fig.update_layout(scene=dict(xaxis_title=\"Recency (Days)\", yaxis_title=\"Frequency\", zaxis_title=\"Monetary ($)\"))\n",
    "    return fig"
   ]
  },
  {
   "cell_type": "markdown",
   "metadata": {},
   "source": [
    "#### <font color='orange'> 5.2 Design the Streamlit App"
   ]
  },
  {
   "cell_type": "code",
   "execution_count": 111,
   "metadata": {},
   "outputs": [
    {
     "name": "stdout",
     "output_type": "stream",
     "text": [
      "Overwriting streamlit_app.py\n"
     ]
    }
   ],
   "source": [
    "%%writefile streamlit_app.py\n",
    "import streamlit as st\n",
    "import pandas as pd\n",
    "import numpy as np\n",
    "import matplotlib.pyplot as plt\n",
    "import seaborn as sns\n",
    "from datetime import datetime\n",
    "from analysis_tools import abc_analysis, frm_analysis, visualize_abc, visualize_frm, frm_3d_scatter_with_segments\n",
    "from io import StringIO\n",
    "import plotly.express as px\n",
    "import os\n",
    "\n",
    "# Page configuration\n",
    "st.set_page_config(page_title=\"Advanced Coffee Point Analysis\", layout=\"wide\", page_icon=\":coffee:\")\n",
    "\n",
    "# Custom CSS\n",
    "st.markdown(\"\"\"\n",
    "    <style>\n",
    "        .custom-title {\n",
    "            font-family: 'Arial', sans-serif;\n",
    "            color: green;\n",
    "            font-size: 34px;\n",
    "            text-align: center;\n",
    "            font-weight: bold;\n",
    "        }\n",
    "        [data-testid=\"stSidebar\"] {\n",
    "            background-image: url(\"https://images.unsplash.com/photo-1690983325598-dd23fcf8f835?fm=jpg&q=60&w=3000&ixlib=rb-4.0.3&ixid=M3wxMjA3fDB8MHxzZWFyY2h8M3x8Y29mZmVlJTIwdG9wJTIwdmlld3xlbnwwfHwwfHx8MA%3D%3D\");\n",
    "            background-size: cover;\n",
    "            background-repeat: no-repeat;\n",
    "            background-position: center;\n",
    "            color: white;\n",
    "        } \n",
    "        .main {\n",
    "        background-color: white;\n",
    "        background-size: cover;\n",
    "        background-position: center; \n",
    "        }\n",
    "    </style>\"\"\", unsafe_allow_html=True)\n",
    "\n",
    "# Title and Introduction - Only shown initially\n",
    "st.markdown(\":green[Coffee Point Analysis Application]\")\n",
    "st.components.v1.html(\"\"\" <script>\n",
    "    var decoration = window.parent.document.querySelectorAll('[data-testid=\"stDecoration\"]')[0];\n",
    "    var sidebar = window.parent.document.querySelectorAll('[data-testid=\"stSidebar\"]')[0];\n",
    "    function outputsize() {\n",
    "        decoration.style.left = `${sidebar.offsetWidth}px`;\n",
    "    }\n",
    "    new ResizeObserver(outputsize).observe(sidebar);\n",
    "    outputsize();\n",
    "    decoration.style.height = \"3.0rem\";\n",
    "    decoration.style.right = \"45px\";\n",
    "    decoration.style.backgroundImage = \"url(https://encrypted-tbn0.gstatic.com/images?q=tbn:ANd9GcRZp73jURGSAYeFbobOinuGO58tQcQ0SEKwUg&s)\";\n",
    "    decoration.style.backgroundSize = \"contain\";\n",
    "    </script> \"\"\", width=0, height=0)\n",
    "# Sidebar Navigation\n",
    "st.sidebar.header(\":coffee: :blue[Navigation]\")\n",
    "menu = st.sidebar.radio(\"Go to\", [\"Topic\", \"Instruction\", \"Overview\", \"ABC Analysis\", \"FRM Analysis\", \"Insights\",\"Conclusion\"])\n",
    "\n",
    "# File uploader\n",
    "st.sidebar.subheader(\"Upload Your Data\")\n",
    "uploaded_file = st.sidebar.file_uploader(\":red[Upload your CSV file]\", type=[\"csv\"])\n",
    "\n",
    "# Ensure output directory exists\n",
    "output_dir = \"output\"\n",
    "if not os.path.exists(output_dir):\n",
    "    os.makedirs(output_dir)\n",
    "# Topic session\n",
    "if menu == \"Topic\":\n",
    "    # st.header(\":star: Topic\")\n",
    "    st.subheader(\":blue[Welcome to the] :red[Coffee Point Analysis Application].\")     \n",
    "    st.subheader(\":blue[This tool allows you to:]\")\n",
    "    st.subheader(\" :balloon: :blue[Analyze sales data using] :red[ABC Analysis] :blue[to identify key revenue-generating products.]  \")\n",
    "    st.subheader(\" :balloon: :blue[Segment customers using] :red[FRM Analysis] :blue[for targeted marketing strategies.]  \")\n",
    "    st.subheader(\" :balloon: :blue[Explore detailed insights into sales trends and customer behavior.]\")\n",
    "    st.header(\" :rainbow[Upload your data and start exploring!]\")\n",
    "    \n",
    "    def set_background(image_url):\n",
    "        st.markdown(f\"\"\"\n",
    "            <style>\n",
    "            .stApp {{\n",
    "                background-image: url(\"{image_url}\");\n",
    "                background-size: 136% auto;\n",
    "                background-position: right;\n",
    "                background-repeat: no-repeat;\n",
    "                background-attachment: fixed;\n",
    "            }}\n",
    "            .main {{\n",
    "                background-color: rgba(255, 255, 255, 0.8);  # Adds a semi-transparent white overlay\n",
    "            }}\n",
    "            </style>\"\"\", unsafe_allow_html=True)\n",
    "    # Call the function with your image URL\n",
    "    set_background('https://coffeepoint.ae/wp-content/uploads/2022/08/image133.jpg')\n",
    "    \n",
    "# Instruction Section\n",
    "if menu == \"Instruction\":\n",
    "    st.header(\":book: :blue[Instruction]\")\n",
    "    st.markdown(\"\"\"\n",
    "        **How to Use This Application**:\n",
    "        1. Go to the **Overview** section to upload your CSV file.\n",
    "        2. Explore:\n",
    "            - **:red[ABC Analysis]** for identifying top products.\n",
    "            - **:red[FRM Analysis]** for customer segmentation.\n",
    "            - **:red[Insights]** for trends and deeper analysis.\n",
    "        3. Navigate between sections using the sidebar.\n",
    "        \n",
    "        **CSV File Format**:\n",
    "        - Ensure your file has the following columns:\n",
    "            - `key`: Unique order identifier.\n",
    "            - `item`: Product name.\n",
    "            - `date`: Order date in `YYYY-MM-DD` format.\n",
    "            - `price`: Price of the product.\n",
    "            - `customer`: Customer ID.\n",
    "    \"\"\")\n",
    "\n",
    "# Home Section\n",
    "if menu == \"Overview\":\n",
    "    st.header(\":coffee: :blue[Upload and View Data]\")\n",
    "    if uploaded_file:\n",
    "        df = pd.read_csv(uploaded_file)\n",
    "        col1, col2, col3= st.columns([3.8,2,3.4])\n",
    "        with col1:\n",
    "            st.write(\"Dataset Preview\")\n",
    "            st.dataframe(df,hide_index =True)\n",
    "        with col2:\n",
    "            st.write(\"Statistical Summary\")\n",
    "            st.dataframe(df.describe())\n",
    "        with col3:\n",
    "            st.write(\"Quick Info\")\n",
    "            buffer = StringIO()\n",
    "            df.info(buf=buffer)\n",
    "            st.text(buffer.getvalue())\n",
    "    else:\n",
    "        st.warning(\"Please upload a CSV file.\")\n",
    "\n",
    "# ABC Analysis Section\n",
    "if menu == \"ABC Analysis\":\n",
    "    st.header(\":chart_with_upwards_trend: :blue[ABC Analysis]\")\n",
    "    if uploaded_file:\n",
    "        df = pd.read_csv(uploaded_file)\n",
    "        abc_results = abc_analysis(df)\n",
    "        col1, col2 = st.columns([1.5, 2])\n",
    "        with col1:\n",
    "            st.write(\"ABC Analysis Table\")\n",
    "            st.dataframe(abc_results)\n",
    "        with col2:\n",
    "            abc_chart_path = os.path.join(output_dir, \"abc_chart.png\")\n",
    "            visualize_abc(abc_results, abc_chart_path)\n",
    "            st.image(abc_chart_path, caption=\"ABC Analysis Chart\", use_column_width=True)\n",
    "\n",
    "        st.subheader(\":red[Key Insights]\")\n",
    "        total_sales = df[\"price\"].sum()\n",
    "        category_summary = abc_results.groupby(\"ABC\")[\"price\"].sum()\n",
    "        for cat, value in category_summary.items():\n",
    "            st.write(f\"- Category {cat}: ${value:.2f} ({(value/total_sales)*100:.2f}%)\")\n",
    "    else:\n",
    "        st.warning(\"Please upload a CSV file.\")\n",
    "\n",
    "# FRM Analysis Section\n",
    "if menu == \"FRM Analysis\":\n",
    "    st.header(\":busts_in_silhouette: :blue[FRM Analysis]\")\n",
    "    if uploaded_file:\n",
    "        df = pd.read_csv(uploaded_file)\n",
    "        frm_results = frm_analysis(df)\n",
    "        col1, col2 = st.columns([1.5, 2])\n",
    "        with col1:\n",
    "            st.write(\"FRM Analysis Table\")\n",
    "            st.dataframe(frm_results)\n",
    "        with col2:\n",
    "            frm_chart_path = os.path.join(output_dir, \"frm_chart.png\")\n",
    "            visualize_frm(frm_results, frm_chart_path)\n",
    "            st.image(frm_chart_path, caption=\"FRM Analysis Chart\", use_column_width=True)\n",
    "\n",
    "        st.subheader(\":red[Customer Segmentation Insights]\")\n",
    "        segment_counts = frm_results[\"Segment\"].value_counts()\n",
    "        for segment, count in segment_counts.items():\n",
    "            st.write(f\"- Segment {segment}: {count} customers\")\n",
    "    else:\n",
    "        st.warning(\"Please upload a CSV file.\")\n",
    "\n",
    "# Insights Section\n",
    "if menu == \"Insights\":\n",
    "    st.header(\":bar_chart: :blue[Additional Insights]\")\n",
    "    if uploaded_file:\n",
    "        df = pd.read_csv(uploaded_file)\n",
    "        df[\"date\"] = pd.to_datetime(df[\"date\"])\n",
    "        \n",
    "        # Extract 'month' and 'day_of_week' columns\n",
    "        df['month'] = df['date'].dt.strftime('%B')  # Full month name\n",
    "        df['day_of_week'] = df['date'].dt.strftime('%A')  # Full day name\n",
    "        # Convert 'month' to a categorical type for proper ordering\n",
    "        month_order = [\"January\", \"February\", \"March\", \"April\", \"May\", \"June\", \"July\", \"August\", \"September\", \"October\", \"November\", \"December\"]\n",
    "        df['month'] = pd.Categorical(df['month'], month_order, ordered=True)\n",
    "        day_order=[\"Monday\", \"Tuesday\", \"Wednesday\", \"Thursday\", \"Friday\", \"Saturday\", \"Sunday\"]\n",
    "        df['day_of_week'] = pd.Categorical(df['day_of_week'],categories=day_order,ordered=True)\n",
    "        \n",
    "        st.subheader(\":red[1. Sales Trends Over Time]\")\n",
    "        # Aggregate sales by month\n",
    "        sales_trend = df.groupby(\"month\")[\"price\"].sum()\n",
    "        # Plotting the sales trend\n",
    "        fig, ax = plt.subplots(figsize=(4, 3))\n",
    "        sales_trend.plot(kind=\"line\", ax=ax, color=\"blue\", marker='o',label=\"Monthly Sales\")\n",
    "        # ax.set_title(\"Monthly Sales Trend\", fontsize=12)\n",
    "        col1, col2 = st.columns([4.5,1])\n",
    "        with col1:\n",
    "            ax.set_xlabel(\"Month\", fontsize=6)\n",
    "            ax.set_ylabel(\"Total Sales ($)\", fontsize=6)\n",
    "            ax.set_xticks(range(12))\n",
    "            ax.set_xticklabels(month_order, rotation=45, ha='right',fontsize=5)\n",
    "            ax.tick_params(axis='y', labelsize=5)\n",
    "            ax.grid(alpha=0.1)\n",
    "            ax.legend(fontsize=4)\n",
    "            st.pyplot(fig, use_container_width=False)\n",
    "        # Auto-generated insight\n",
    "        with col2:\n",
    "            st.write(f\"**:red[Insight]**: Total sales peaked in :orange[{sales_trend.idxmax()}], with :orange[${sales_trend.max():,.2f}] in revenue. The lowest sales occurred in :orange[{sales_trend.idxmin()}], with :orange[$${sales_trend.min():,.2f}].\")\n",
    "        \n",
    "        st.subheader(\":red[2. Transactions Trends Over Time]\")\n",
    "        # Aggregate sales by month\n",
    "        transactions_trend = df.groupby(\"month\")[\"price\"].count()\n",
    "        col1, col2 = st.columns([4.5,1])\n",
    "        with col1:\n",
    "            # Plotting the sales trend\n",
    "            fig, ax = plt.subplots(figsize=(4, 3))\n",
    "            transactions_trend.plot(kind=\"bar\", ax=ax, color=\"coral\", label=\"Monthly Transactions\")\n",
    "            # ax.set_title(\"Monthly Sales Trend\", fontsize=12)\n",
    "            ax.set_xlabel(\"Month\", fontsize=6)\n",
    "            ax.set_ylabel(\"Total Transactions\", fontsize=6)\n",
    "            ax.tick_params(axis='x', labelsize=5, rotation=45)\n",
    "            ax.tick_params(axis='y', labelsize=5)\n",
    "            ax.grid(alpha=0.1)\n",
    "            ax.legend(fontsize=4)\n",
    "            st.pyplot(fig, use_container_width=False)\n",
    "        with col2:\n",
    "        # Auto-generated insight\n",
    "            st.write(f\"**:red[Insight]**: The highest number of transactions occurred in :orange[{transactions_trend.idxmax()}], with :orange[{transactions_trend.max()}] transactions. The lowest occurred in :orange[{transactions_trend.idxmin()}].\")\n",
    "        \n",
    "        # Transactions by Day of Week\n",
    "        st.subheader(\":red[3. Transactions by Day of Week]\")\n",
    "        transactions_day_of_week = df.groupby('day_of_week')['price'].count()\n",
    "        col1, col2 = st.columns([4.5,1])\n",
    "        with col1:\n",
    "            fig, ax = plt.subplots(figsize=(4,3))\n",
    "            transactions_day_of_week.plot(kind='bar', ax=ax, color = 'DarkCyan')\n",
    "            ax.set_xlabel(\"Day\",fontsize=6)\n",
    "            ax.set_ylabel(\"Transactions\", fontsize=6)\n",
    "            ax.tick_params(axis='x',labelsize=5,rotation=30)\n",
    "            ax.tick_params(axis='y',labelsize=5)\n",
    "            ax.grid(alpha = 0.1)\n",
    "            st.pyplot(fig, use_container_width=False)\n",
    "        with col2:\n",
    "        # Auto-generated insight\n",
    "            st.write(f\"**:red[Insight]**: Most transactions occurred on :orange[{transactions_day_of_week.idxmax()}] with :orange[{transactions_day_of_week.max()}] transactions, while the least occurred on :orange[{transactions_day_of_week.idxmin()}].\")\n",
    "\n",
    "        # Transactions by Product Category\n",
    "        st.subheader(\":red[4. Transactions by Product Category]\")\n",
    "        sales_by_product = df.groupby('item')['price'].count().sort_values(ascending=True)\n",
    "        col1, col2 = st.columns([4.5,1])\n",
    "        with col1:\n",
    "            fig, ax = plt.subplots(figsize=(4,3))\n",
    "            sales_by_product.plot(kind='barh', ax=ax, color = 'DeepSkyBlue')\n",
    "            ax.set_xlabel(\"Transactions\",fontsize=6)\n",
    "            ax.set_ylabel(\"item\", fontsize=6)\n",
    "            ax.tick_params(axis='x',labelsize=5)\n",
    "            ax.tick_params(axis='y',labelsize=5,rotation = 45)\n",
    "            ax.grid(alpha = 0.1)\n",
    "            st.pyplot(fig, use_container_width=False)   \n",
    "        with col2:\n",
    "        # Auto-generated insight\n",
    "            st.write(f\"**:red[Insight]**: The least popular product is :orange[{sales_by_product.idxmin()}] with only :orange[{sales_by_product.min()}] transactions. The most popular product is :orange[{sales_by_product.idxmax()}] with :orange[{sales_by_product.max()}] transactions.\")\n",
    "\n",
    "        st.subheader(\":red[5. Top Performing Products]\")\n",
    "        top_products = df.groupby(\"item\")[\"price\"].sum().sort_values(ascending=False).head(5)\n",
    "        col1, col2 = st.columns([4.5,1])\n",
    "        with col1:\n",
    "            fig, ax = plt.subplots(figsize=(4,3))\n",
    "            top_products.plot(kind=\"bar\", color=[\"#2ecc71\", \"#f39c12\", \"#e74c3c\", \"#3498db\", \"#9b59b6\"], ax=ax)\n",
    "            ax.set_title(\"Top 5 Products by Revenue\",fontsize=6,color='blue')\n",
    "            ax.set_xlabel(\"Item\",fontsize=6)\n",
    "            ax.set_ylabel(\"Revenue\", fontsize=6)\n",
    "            ax.tick_params(axis='x',labelsize=5,rotation = 0)\n",
    "            ax.tick_params(axis='y',labelsize=5)\n",
    "            ax.grid(alpha = 0.1)\n",
    "            st.pyplot(fig, use_container_width=False)    \n",
    "        with col2:\n",
    "        # Auto-generated insight\n",
    "            st.write(f\"**:red[Insight]**: The top-performing product is :orange[{top_products.idxmax()}] generating :orange[${top_products.max():,.2f}] in revenue.\")\n",
    "\n",
    "        # Cumulative Contribution Line Chart\n",
    "        st.subheader(\":red[6. Cumulative Revenue Contribution]\")\n",
    "        abc_results = abc_analysis(df)\n",
    "        col1, col2 = st.columns([4.5,1.5])\n",
    "        with col1:\n",
    "            cumulative_fig = px.line(abc_results.sort_values(\"price\", ascending=False).assign(cumulative=lambda x: x[\"price\"].cumsum()), x=\"item\",\n",
    "            y=\"cumulative\", labels={\"cumulative\": \"Cumulative Revenue ($)\", \"item\": \"Products\"})\n",
    "            st.plotly_chart(cumulative_fig, use_container_width=True)\n",
    "        # Display cumulative contribution insights\n",
    "        with col2:\n",
    "            st.write(f\":red[**Insight**]: The top **20% of products** contribute approximately **{abc_results.loc[:int(len(abc_results)*0.2), 'price'].sum() / abc_results['price'].sum():.2%}** of total revenue.\")\n",
    "            st.write(\"Products in the tail end have minimal revenue impact, suggesting opportunities for discontinuation or optimization.\")\n",
    "\n",
    "        \n",
    "        # Pie Chart - Revenue Contribution by Category\n",
    "        st.subheader(\":red[7. Revenue Contribution by ABC Category]\")\n",
    "        col1, col2 = st.columns([3.5,3])\n",
    "        with col1:\n",
    "            fig, ax = plt.subplots(figsize=(3,3))\n",
    "            abc_results[\"ABC\"].value_counts().plot.pie(autopct=\"%1.1f%%\", colors=[\"green\", \"orange\", \"red\"], startangle=90, wedgeprops={'alpha':0.7})\n",
    "            ax.set_ylabel(\"\")  # Remove y-axis label\n",
    "            st.pyplot(fig, use_container_width=False)   \n",
    "        # Display ABC category insights\n",
    "        with col2:\n",
    "            category_contributions = abc_results.groupby(\"ABC\")[\"price\"].sum() / abc_results[\"price\"].sum()\n",
    "            st.write(f\"- **Category A** accounts for **{category_contributions['A']:.2%}** of total revenue, representing top-performing products.\")\n",
    "            st.write(f\"- **Category B** contributes **{category_contributions['B']:.2%}**, showing medium-performing products.\")\n",
    "            st.write(f\"- **Category C** accounts for **{category_contributions['C']:.2%}**, indicating products with low revenue contribution.\")\n",
    "            st.write(\"=> Consider promoting or phasing out Category C products to improve inventory efficiency.\")\n",
    "            \n",
    "        st.subheader(\":red[8. Customer Retention Metrics]\")\n",
    "        frm_results = frm_analysis(df)\n",
    "        avg_recency = frm_results[\"Recency\"].mean()\n",
    "        avg_frequency = frm_results[\"Frequency\"].mean()\n",
    "        avg_monetary = frm_results[\"Monetary\"].sum()/frm_results[\"Frequency\"].sum()\n",
    "        # Display overall metrics\n",
    "        st.write(f\"- **Average Recency**: Customers make purchases on average every **{avg_recency:.2f} days**.\")\n",
    "        st.write(f\"- **Average Frequency**: Customers make an average of **{avg_frequency:.2f} purchases**.\")\n",
    "        st.write(f\"- **Average Monetary Value**: On average, customers spend **${avg_monetary:.2f}** per transaction.\")\n",
    "        \n",
    "        # Show key metrics by segment\n",
    "        st.write(\"##### :blue[Key Metrics by Segment]:\")\n",
    "        frm_results[\"meanMonetary\"] = frm_results[\"Monetary\"]/frm_results[\"Frequency\"]\n",
    "        segment_metrics = frm_results.groupby(\"Segment\").agg(\n",
    "            AvgRecency=(\"Recency\", \"mean\"),\n",
    "            AvgFrequency=(\"Frequency\", \"mean\"),\n",
    "            AvgMonetary=(\"meanMonetary\", \"mean\"),\n",
    "            CustomerCount=(\"Segment\", \"size\"))\n",
    "        st.dataframe(segment_metrics)\n",
    "        # Display segment-level insights\n",
    "        st.write(f\"- **High Value Segment**: Customers in this segment spend an average of **${segment_metrics.loc['High Value', 'AvgMonetary']:.2f}** per purchase.\")\n",
    "        st.write(f\"- **Loyal Segment**: These customers purchase **{segment_metrics.loc['Loyal', 'AvgFrequency']:.2f} times** on average but might spend less per transaction.\")\n",
    "        st.write(f\"- **At Risk Segment**: Customers in this segment haven’t purchased in an average of **{segment_metrics.loc['At Risk', 'AvgRecency']:.2f} days**, suggesting the need for retention strategies.\")\n",
    "        st.write(\"- Focus retention efforts on :green[At Risk] customers and reward :green[Loyal] customers to increase their monetary value.\")\n",
    "\n",
    "        # 3D FRM Clustering\n",
    "        st.subheader(\":red[9. 3D FRM Clustering with Segments]\")\n",
    "        fig = frm_3d_scatter_with_segments(frm_results)\n",
    "        st.plotly_chart(fig, use_container_width=True)\n",
    "        # Display clustering insights\n",
    "        st.write(\":blue[**Customer Clustering Analysis**:]\")\n",
    "        st.write(\"  - Customers are segmented based on their purchasing behavior, offering actionable insights into engagement and marketing strategies.\")\n",
    "        st.write(\"  - Segments with overlapping behavior can indicate areas where additional data or features might refine segmentation.\")\n",
    "        st.write(\"- Use the clustering plot to identify standout segments and focus marketing campaigns for the most valuable groups.\")\n",
    "    else:\n",
    "        st.warning(\"Please upload a CSV file.\")\n",
    "# Conclusion Section\n",
    "if menu == \"Conclusion\":\n",
    "    st.header(\":dart: :blue[Conclusion]\")\n",
    "    st.markdown(\"\"\"\n",
    "        :red[**1. For ABC Analysis:**]\n",
    "        - Products in Category A are the backbone of revenue. Ensuring their availability and promoting them will sustain growth.\n",
    "        - Category B products are stable contributors. Monitor them for opportunities to upsell.\n",
    "        - Category C products need review. Consider reducing stock levels or bundling them to improve profitability.\n",
    "\n",
    "        :white_check_mark: :blue[Inventory Optimization Recommendations:]\n",
    "        - Minimize Overstock: Keep inventory of Category C low to free up capital. \n",
    "        - Bundle Low-Performing Products\n",
    "        - Invest in Category A\n",
    "\n",
    "        \n",
    "        :red[**2. For RFM Analysis:**]\n",
    "        - Our high-value customers contribute the most to revenue. Efforts to reward their loyalty should yield better profitability.\n",
    "        - At-risk customers need re-engagement campaigns, as losing them could significantly impact sales.\n",
    "        - Low-value customers are less critical but might respond well to special offers or discounts.\n",
    "        \n",
    "        :white_check_mark: :blue[Customer Retention Recommendations:]\n",
    "        - Monitor Recency: Send reminders or special offers to customers inactive for 30 days.\n",
    "        - Focus on High-Value Segments: Reward them with points or free gifts.\n",
    "        - Upsell Opportunities: Frequent buyers of low-value items may respond to cross-selling higher-value products.\n",
    "\n",
    "    \"\"\")"
   ]
  },
  {
   "cell_type": "code",
   "execution_count": 82,
   "metadata": {},
   "outputs": [],
   "source": [
    "# import subprocess\n",
    "# # Run Streamlit app from Jupyter Notebook\n",
    "# subprocess.run([\"streamlit\", \"run\", \"streamlit_app.py\"])"
   ]
  }
 ],
 "metadata": {
  "colab": {
   "provenance": []
  },
  "kernelspec": {
   "display_name": "Python 3 (ipykernel)",
   "language": "python",
   "name": "python3"
  },
  "language_info": {
   "codemirror_mode": {
    "name": "ipython",
    "version": 3
   },
   "file_extension": ".py",
   "mimetype": "text/x-python",
   "name": "python",
   "nbconvert_exporter": "python",
   "pygments_lexer": "ipython3",
   "version": "3.12.4"
  }
 },
 "nbformat": 4,
 "nbformat_minor": 4
}
